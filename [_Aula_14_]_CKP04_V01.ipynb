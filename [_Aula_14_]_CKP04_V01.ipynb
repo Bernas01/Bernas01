{
  "cells": [
    {
      "cell_type": "markdown",
      "id": "bc416c00-17db-4468-a33e-efbf862e854d",
      "metadata": {
        "id": "bc416c00-17db-4468-a33e-efbf862e854d"
      },
      "source": [
        "---\n",
        "\n",
        "<h1 style=\"text-align: center;\"><strong>Differentiated Problem Solving</strong></h1>\n",
        "<h2 style=\"text-align: center;\"><strong>Aula 14 - CKP04</strong></h2>\n",
        "<h3 style=\"text-align: center;\"><strong>Prof. Jones Egydio</strong></h3>\n",
        "<h4 style=\"text-align: center;\"><strong>FIAP - 2025</strong></h4>\n",
        "<br>\n",
        "<br>\n",
        "\n",
        "---"
      ]
    },
    {
      "cell_type": "code",
      "execution_count": null,
      "id": "64d12be0-0926-4cb4-b6ab-e20e094352b3",
      "metadata": {
        "id": "64d12be0-0926-4cb4-b6ab-e20e094352b3"
      },
      "outputs": [],
      "source": []
    },
    {
      "cell_type": "code",
      "execution_count": null,
      "id": "36b01779-0fb1-4732-a538-ec099789d30d",
      "metadata": {
        "id": "36b01779-0fb1-4732-a538-ec099789d30d"
      },
      "outputs": [],
      "source": [
        "Nome = \"Guilherme Romero\" #@param {type:\"string\"}\n",
        "RM = \"564431\" #@param {type:\"string\"}\n",
        "\n",
        "Nome = \" (sem acentos)\" #@param {type:\"string\"}\n",
        "RM = \" (no formato XXXXXX)\" #@param {type:\"string\"}\n",
        "\n",
        "Nome = \" (sem acentos)\" #@param {type:\"string\"}\n",
        "RM = \" (no formato XXXXXX)\" #@param {type:\"string\"}\n",
        "\n",
        "Nome = \" (sem acentos)\" #@param {type:\"string\"}\n",
        "RM = \" (no formato XXXXXX)\" #@param {type:\"string\"}"
      ]
    },
    {
      "cell_type": "code",
      "execution_count": null,
      "id": "990ebcd7-3789-4956-85f5-16fdf54fe1d9",
      "metadata": {
        "jupyter": {
          "source_hidden": true
        },
        "id": "990ebcd7-3789-4956-85f5-16fdf54fe1d9"
      },
      "outputs": [],
      "source": []
    },
    {
      "cell_type": "markdown",
      "id": "0b1cfab6",
      "metadata": {
        "id": "0b1cfab6"
      },
      "source": [
        "# CKP04\n",
        "\n",
        "* Todos os gráficos e soluções devem ser feitos em Python"
      ]
    },
    {
      "cell_type": "markdown",
      "id": "66886834",
      "metadata": {
        "id": "66886834"
      },
      "source": [
        "## Ex01 (1,0 ponto) – A Tabela abaixo fornece a população do mundo no século 20.\n",
        "\n",
        "![image.png](attachment:675259fd-a19a-4167-b8e0-865b7296571b.png)\n",
        "\n",
        "a. Desenhe um gráfico de dispersão (scatter plot) e observe que um modelo linear não é apropriado.\n",
        "\n",
        "b. Encontre uma função exponencial que modele o crescimento populacional.\n",
        "\n",
        "c. Desenhe um gráfico da função que você encontrou junto com o gráfico de dispersão. Quão bem o modelo se ajusta aos dados?\n",
        "\n",
        "d. Use o modelo que você encontrou para prever a população mundial no ano 2020."
      ]
    },
    {
      "cell_type": "code",
      "execution_count": null,
      "id": "c09d586e",
      "metadata": {
        "id": "c09d586e",
        "outputId": "e737c8ea-4894-4aab-8361-e6c3a18b51f4"
      },
      "outputs": [
        {
          "name": "stdout",
          "output_type": "stream",
          "text": [
            "Modelo: y = 1.7464 + -0.008285·(ano-1900) + 0.000521212·(ano-1900)^2\n",
            "R² = 0.9975\n",
            "Previsão para 2020: 8.26 bilhões\n"
          ]
        }
      ],
      "source": [
        "# import numpy as np\n",
        "import matplotlib.pyplot as plt\n",
        "\n",
        "# Dados da população (bilhões)\n",
        "anos = np.array([1900,1910,1920,1930,1940,1950,1960,1970,1980,1990,2000], dtype=float)\n",
        "pop  = np.array([1.65,1.75,1.86,2.07,2.30,2.52,3.02,3.70,4.45,5.28,6.12], dtype=float)\n",
        "\n",
        "# (a) Gráfico de dispersão\n",
        "plt.figure()\n",
        "plt.scatter(anos, pop)\n",
        "plt.title(\"População mundial (bilhões) — Século XX\")\n",
        "plt.xlabel(\"Ano\")\n",
        "plt.ylabel(\"População (bilhões)\")\n",
        "plt.show()\n",
        "\n",
        "# (b) Ajuste exponencial: pop ≈ A * exp(k*(ano-ano0))\n",
        "ano0 = anos.min()\n",
        "X = anos - ano0\n",
        "logy = np.log(pop)\n",
        "k, lnA = np.polyfit(X, logy, 1)  # slope = k, intercept = lnA\n",
        "A = np.exp(lnA)\n",
        "\n",
        "def g(ano):\n",
        "    x = np.asarray(ano, dtype=float) - ano0\n",
        "    return A * np.exp(k * x)\n",
        "\n",
        "# (c) Gráfico do ajuste junto com os dados\n",
        "anos_plot = np.linspace(1900, 2000, 401)\n",
        "plt.figure()\n",
        "plt.scatter(anos, pop, label=\"Dados\")\n",
        "plt.plot(anos_plot, g(anos_plot), label=\"Ajuste exponencial\")\n",
        "plt.title(\"Ajuste exponencial vs dados\")\n",
        "plt.xlabel(\"Ano\")\n",
        "plt.ylabel(\"População (bilhões)\")\n",
        "plt.legend()\n",
        "plt.show()\n",
        "\n",
        "# Qualidade do ajuste\n",
        "y_hat = g(anos)\n",
        "ss_res = np.sum((pop - y_hat)**2)\n",
        "ss_tot = np.sum((pop - pop.mean())**2)\n",
        "r2 = 1 - ss_res/ss_tot\n",
        "\n",
        "# (d) Previsão para 2020\n",
        "pred_2020 = g(2020)\n",
        "\n",
        "print(f\"Modelo: y = {A:.4f} * exp({k:.5f} * (ano - {int(ano0)}))\")\n",
        "print(f\"R² = {r2:.4f}\")\n",
        "print(f\"Previsão para 2020: {pred_2020:.2f} bilhões\")\n"
      ]
    },
    {
      "cell_type": "markdown",
      "id": "07d111d6",
      "metadata": {
        "id": "07d111d6"
      },
      "source": [
        "## Ex02 (3,0 pontos) – A Tabela abaixo fornece a distância média 𝑑 de cada planeta ao sol em unidades astronômicas e seu período 𝑇 em anos.\n",
        "\n",
        "![image.png](attachment:cb97d5c4-0a84-4536-b98f-b8571295e321.png)\n",
        "\n",
        "a. Faça um esboço de um gráfico de dispersão (scatter plot). Um modelo linear é apropriado?\n",
        "\n",
        "b. Encontre uma função de potência que modele os dados.\n",
        "\n",
        "c. Desenhe um gráfico da função que você encontrou e o gráfico de dispersão no mesmo gráfico. Quão bem o modelo se ajusta aos dados?\n",
        "\n",
        "d. Use o modelo que você encontrou para calcular o período de um asteroide cuja distância média do sol é 5 unidades astronômicas (AU)."
      ]
    },
    {
      "cell_type": "code",
      "execution_count": null,
      "id": "3ed9bb2d",
      "metadata": {
        "id": "3ed9bb2d"
      },
      "outputs": [],
      "source": [
        "import numpy as np\n",
        "import matplotlib.pyplot as plt\n",
        "from scipy.optimize import curve_fit\n",
        "\n",
        "d = np.array([0.39, 0.72, 1.00, 1.52, 5.20, 9.58, 19.20, 30.05])\n",
        "T = np.array([0.24, 0.62, 1.00, 1.88, 11.86, 29.46, 84.01, 164.8])\n",
        "\n",
        "# a) Gráfico de dispersão\n",
        "plt.scatter(d, T, color='blue', label='Planetas')\n",
        "plt.xlabel('Distância ao Sol (AU)')\n",
        "plt.ylabel('Período (anos)')\n",
        "plt.title('Período vs Distância ao Sol')\n",
        "plt.grid(True)\n",
        "plt.legend()\n",
        "plt.show()\n",
        "\n",
        "# b) Função de potência: T\n",
        "def potencia(x, a, b):\n",
        "    return a * x**b\n",
        "\n",
        "params, _ = curve_fit(potencia, d, T)\n",
        "a, b = params\n",
        "print(f\"Função de potência ajustada: T = {a:.3f} * d^{b:.3f}\")\n",
        "\n",
        "# c) Gráfico do modelo e dispersão\n",
        "d_fit = np.linspace(min(d), max(d), 100)\n",
        "T_fit = potencia(d_fit, a, b)\n",
        "\n",
        "plt.scatter(d, T, color='blue', label='Planetas')\n",
        "plt.plot(d_fit, T_fit, color='red', label=f'Modelo: T={a:.2f}*d^{b:.2f}')\n",
        "plt.xlabel('Distância ao Sol (AU)')\n",
        "plt.ylabel('Período (anos)')\n",
        "plt.title('Modelo de Potência vs Dados')\n",
        "plt.grid(True)\n",
        "plt.legend()\n",
        "plt.show()\n",
        "\n",
        "# d) Período de um asteroide a 5 AU\n",
        "d_asteroide = 5\n",
        "T_asteroide = potencia(d_asteroide, a, b)\n",
        "print(f\"Período do asteroide a 5 AU: {T_asteroide:.2f} anos\")"
      ]
    },
    {
      "cell_type": "markdown",
      "id": "2909ef2e",
      "metadata": {
        "id": "2909ef2e"
      },
      "source": [
        "## Ex03 (6,0 pontos) – Encontre a equação da reta tangente e secante à  no ponto .\n",
        "\n",
        "a. Encontre a equação da reta tangente e secante à $y = x^2-x^3$ no ponto $P = (-1, 2)$.\n",
        "\n",
        "b. Represente a soluções graficamente."
      ]
    },
    {
      "cell_type": "code",
      "execution_count": null,
      "id": "5dd06e91",
      "metadata": {
        "id": "5dd06e91"
      },
      "outputs": [],
      "source": [
        "\n",
        "import numpy as np\n",
        "import matplotlib.pyplot as plt\n",
        "\n",
        "\n",
        "def f(x):\n",
        "    return x**2 - x**3\n",
        "\n",
        "def f_prime(x):\n",
        "    return 2*x - 3*x**2\n",
        "\n",
        "\n",
        "x0 = -1\n",
        "y0 = f(x0)\n",
        "\n",
        "def tangent(x):\n",
        "    return f_prime(x0)*(x - x0) + y0\n",
        "\n",
        "\n",
        "x1 = 0\n",
        "y1 = f(x1)\n",
        "def secant(x):\n",
        "    m_sec = (y1 - y0)/(x1 - x0)\n",
        "    return m_sec*(x - x0) + y0\n",
        "\n",
        "x = np.linspace(-2, 2, 400)\n",
        "\n",
        "plt.plot(x, f(x), label='f(x) = x^2 - x^3', color='blue')\n",
        "plt.plot(x, tangent(x), label='Tangente em P(-1,2)', color='red', linestyle='--')\n",
        "plt.plot(x, secant(x), label='Secante passando por P e (0,0)', color='green', linestyle='--')\n",
        "plt.scatter([x0, x1], [y0, y1], color='black', zorder=5)  # pontos\n",
        "plt.xlabel('x')\n",
        "plt.ylabel('y')\n",
        "plt.title('Função com reta tangente e secante')\n",
        "plt.legend()\n",
        "plt.grid(True)\n",
        "plt.show()\n",
        "\n",
        "print(f\"Equação da reta tangente: y = {f_prime(x0)}*(x - {x0}) + {y0} => y = {f_prime(x0)}*x + {y0 - f_prime(x0)*x0}\")\n",
        "print(f\"Equação da reta secante: y = {(y1 - y0)/(x1 - x0)}*(x - {x0}) + {y0} => y = {(y1 - y0)/(x1 - x0)}*x + {y0 - (y1 - y0)/(x1 - x0)*x0}\")"
      ]
    },
    {
      "cell_type": "markdown",
      "id": "41c438e5-f28a-4996-8b84-f48f12df57d5",
      "metadata": {
        "id": "41c438e5-f28a-4996-8b84-f48f12df57d5"
      },
      "source": [
        "#\n",
        "---\n",
        "\n",
        "© 2025 Jones Egydio. Todos os direitos reservados.  \n",
        "\n",
        "Conecte-se comigo no [LinkedIn](https://www.linkedin.com/in/jones-egydio-msc-3300359/)."
      ]
    },
    {
      "cell_type": "code",
      "execution_count": null,
      "id": "45218b43-daf3-438a-8671-f962cb0a2826",
      "metadata": {
        "id": "45218b43-daf3-438a-8671-f962cb0a2826"
      },
      "outputs": [],
      "source": []
    }
  ],
  "metadata": {
    "kernelspec": {
      "display_name": "Python 3 (ipykernel)",
      "language": "python",
      "name": "python3"
    },
    "language_info": {
      "codemirror_mode": {
        "name": "ipython",
        "version": 3
      },
      "file_extension": ".py",
      "mimetype": "text/x-python",
      "name": "python",
      "nbconvert_exporter": "python",
      "pygments_lexer": "ipython3",
      "version": "3.13.5"
    },
    "colab": {
      "provenance": []
    }
  },
  "nbformat": 4,
  "nbformat_minor": 5
}